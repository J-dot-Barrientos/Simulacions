{
  "nbformat": 4,
  "nbformat_minor": 0,
  "metadata": {
    "colab": {
      "provenance": [],
      "toc_visible": true,
      "authorship_tag": "ABX9TyMyUQx4k4xmhoURqti0Mwwj",
      "include_colab_link": true
    },
    "kernelspec": {
      "name": "python3",
      "display_name": "Python 3"
    },
    "language_info": {
      "name": "python"
    }
  },
  "cells": [
    {
      "cell_type": "markdown",
      "metadata": {
        "id": "view-in-github",
        "colab_type": "text"
      },
      "source": [
        "<a href=\"https://colab.research.google.com/github/J-dot-Barrientos/Simulacions/blob/main/Homework1.ipynb\" target=\"_parent\"><img src=\"https://colab.research.google.com/assets/colab-badge.svg\" alt=\"Open In Colab\"/></a>"
      ]
    },
    {
      "cell_type": "markdown",
      "source": [
        " #  HOMEWORK 1. SOLVING FUNDAMENTAL LINEAR ALGEBRA PROBLEMS WITH PYTHON"
      ],
      "metadata": {
        "id": "chp5Oa9-TF_2"
      }
    },
    {
      "cell_type": "code",
      "source": [
        "import numpy as np"
      ],
      "metadata": {
        "id": "TiHEwi9kWlYN"
      },
      "execution_count": 67,
      "outputs": []
    },
    {
      "cell_type": "markdown",
      "source": [
        "Compute the inverse of the following matrices.\n",
        "\n",
        "![Captura de pantalla_20250219_105016.png](data:image/png;base64,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)\n",
        "\n",
        "![Captura de pantalla_20250219_105156.png](data:image/png;base64,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)"
      ],
      "metadata": {
        "id": "LZKXZQbdTZ1v"
      }
    },
    {
      "cell_type": "markdown",
      "source": [
        "Then use them to solve the following matrix equations.\n",
        "\n",
        "![image.png](data:image/png;base64,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)"
      ],
      "metadata": {
        "id": "JOpaZOkOn8z8"
      }
    },
    {
      "cell_type": "markdown",
      "source": [
        "# Inverse Matrix"
      ],
      "metadata": {
        "id": "bkO2Q-q1oGkM"
      }
    },
    {
      "cell_type": "markdown",
      "source": [
        "Matrices are written again."
      ],
      "metadata": {
        "id": "V17Mx6D-oGJj"
      }
    },
    {
      "cell_type": "code",
      "source": [
        "A=np.array([[1, -1, 1], [-1, 1, 1], [2, -1, 4]])\n",
        "print(A)"
      ],
      "metadata": {
        "colab": {
          "base_uri": "https://localhost:8080/"
        },
        "id": "FdM8xv4mk5Sm",
        "outputId": "9985be29-3195-442f-c4c8-db610d45d2cc"
      },
      "execution_count": 68,
      "outputs": [
        {
          "output_type": "stream",
          "name": "stdout",
          "text": [
            "[[ 1 -1  1]\n",
            " [-1  1  1]\n",
            " [ 2 -1  4]]\n"
          ]
        }
      ]
    },
    {
      "cell_type": "code",
      "source": [
        "B=np.array([[1, 2, 0], [0, 1, 2], [2, 1, 3]])\n",
        "print(B)"
      ],
      "metadata": {
        "colab": {
          "base_uri": "https://localhost:8080/"
        },
        "id": "fQMx_Gt9n_yt",
        "outputId": "33737bc8-a21b-4f52-b44a-d1d6c97e4992"
      },
      "execution_count": 69,
      "outputs": [
        {
          "output_type": "stream",
          "name": "stdout",
          "text": [
            "[[1 2 0]\n",
            " [0 1 2]\n",
            " [2 1 3]]\n"
          ]
        }
      ]
    },
    {
      "cell_type": "markdown",
      "source": [
        "np.linalg.inv(a) is used to compute the inverse of a matrix a."
      ],
      "metadata": {
        "id": "Ukx5xJsSTvbq"
      }
    },
    {
      "cell_type": "code",
      "source": [
        "C=np.linalg.inv(A)\n",
        "print(C)"
      ],
      "metadata": {
        "id": "Ab1a7iklXe08",
        "colab": {
          "base_uri": "https://localhost:8080/"
        },
        "outputId": "51ca5e9a-5dd7-434a-8d30-3f2809e383cf"
      },
      "execution_count": 70,
      "outputs": [
        {
          "output_type": "stream",
          "name": "stdout",
          "text": [
            "[[-2.5 -1.5  1. ]\n",
            " [-3.  -1.   1. ]\n",
            " [ 0.5  0.5  0. ]]\n"
          ]
        }
      ]
    },
    {
      "cell_type": "code",
      "source": [
        "D=np.linalg.inv(B)\n",
        "print(D)"
      ],
      "metadata": {
        "colab": {
          "base_uri": "https://localhost:8080/"
        },
        "id": "8uub1uYwmZWm",
        "outputId": "ad86ac46-2f8b-4db6-f8d6-7651a335933c"
      },
      "execution_count": 71,
      "outputs": [
        {
          "output_type": "stream",
          "name": "stdout",
          "text": [
            "[[ 0.11111111 -0.66666667  0.44444444]\n",
            " [ 0.44444444  0.33333333 -0.22222222]\n",
            " [-0.22222222  0.33333333  0.11111111]]\n"
          ]
        }
      ]
    },
    {
      "cell_type": "markdown",
      "source": [
        "Results are easy to check"
      ],
      "metadata": {
        "id": "eLdKRCHtx3Me"
      }
    },
    {
      "cell_type": "code",
      "source": [
        "np.dot(A, C)"
      ],
      "metadata": {
        "colab": {
          "base_uri": "https://localhost:8080/"
        },
        "id": "TaKnHl45x7fG",
        "outputId": "b68fd613-b50c-4a1a-ad6d-31bdd6c4b094"
      },
      "execution_count": 72,
      "outputs": [
        {
          "output_type": "execute_result",
          "data": {
            "text/plain": [
              "array([[1., 0., 0.],\n",
              "       [0., 1., 0.],\n",
              "       [0., 0., 1.]])"
            ]
          },
          "metadata": {},
          "execution_count": 72
        }
      ]
    },
    {
      "cell_type": "code",
      "source": [
        "np.dot(B,D)"
      ],
      "metadata": {
        "colab": {
          "base_uri": "https://localhost:8080/"
        },
        "id": "a2hxwp4vyAdp",
        "outputId": "874d3dde-9a43-48ea-a867-67c5cb08c9d3"
      },
      "execution_count": 73,
      "outputs": [
        {
          "output_type": "execute_result",
          "data": {
            "text/plain": [
              "array([[ 1.00000000e+00,  0.00000000e+00,  0.00000000e+00],\n",
              "       [ 5.55111512e-17,  1.00000000e+00, -2.77555756e-17],\n",
              "       [ 0.00000000e+00, -5.55111512e-17,  1.00000000e+00]])"
            ]
          },
          "metadata": {},
          "execution_count": 73
        }
      ]
    },
    {
      "cell_type": "markdown",
      "source": [
        "# Matrix Equations"
      ],
      "metadata": {
        "id": "nQTi_B86oR-T"
      }
    },
    {
      "cell_type": "markdown",
      "source": [
        "Solving the matrix equations is easy. Equation 1) AX=B. X will be the dot product of C (inverse of A) and B [just introduce inv(A) in the left at each side!]."
      ],
      "metadata": {
        "id": "1PFOcONtiAg8"
      }
    },
    {
      "cell_type": "code",
      "source": [
        "X=np.dot(C,B)\n",
        "print(X)"
      ],
      "metadata": {
        "colab": {
          "base_uri": "https://localhost:8080/"
        },
        "id": "740-_-qvirjo",
        "outputId": "c36a1526-cf90-4fb2-ccee-ffa0a271c5c8"
      },
      "execution_count": 75,
      "outputs": [
        {
          "output_type": "stream",
          "name": "stdout",
          "text": [
            "[[-0.5 -5.5  0. ]\n",
            " [-1.  -6.   1. ]\n",
            " [ 0.5  1.5  1. ]]\n"
          ]
        }
      ]
    },
    {
      "cell_type": "markdown",
      "source": [
        "Let's make a check."
      ],
      "metadata": {
        "id": "9pMfrxl4wnJw"
      }
    },
    {
      "cell_type": "code",
      "source": [
        "np.dot(A, X)-B"
      ],
      "metadata": {
        "colab": {
          "base_uri": "https://localhost:8080/"
        },
        "id": "IuHCLU2JwzGl",
        "outputId": "89905d54-54fd-464c-e463-1a41c67a6730"
      },
      "execution_count": 76,
      "outputs": [
        {
          "output_type": "execute_result",
          "data": {
            "text/plain": [
              "array([[0., 0., 0.],\n",
              "       [0., 0., 0.],\n",
              "       [0., 0., 0.]])"
            ]
          },
          "metadata": {},
          "execution_count": 76
        }
      ]
    },
    {
      "cell_type": "markdown",
      "source": [
        "Equation 2) AY=BY+A. In this case Y equals (A-B)^-1*A."
      ],
      "metadata": {
        "id": "e_x36ZdqkhT7"
      }
    },
    {
      "cell_type": "code",
      "source": [
        "E=A-B\n",
        "F=np.linalg.inv(E)\n",
        "print(F)"
      ],
      "metadata": {
        "colab": {
          "base_uri": "https://localhost:8080/"
        },
        "id": "FaWPk4CCwIDE",
        "outputId": "2b0dd5b3-f15a-48af-f32a-053e71114eb8"
      },
      "execution_count": 77,
      "outputs": [
        {
          "output_type": "stream",
          "name": "stdout",
          "text": [
            "[[ 2. -1. -3.]\n",
            " [-1. -0.  1.]\n",
            " [-2.  0.  3.]]\n"
          ]
        }
      ]
    },
    {
      "cell_type": "code",
      "source": [
        "Y=np.dot(F,A)\n",
        "print(Y)"
      ],
      "metadata": {
        "colab": {
          "base_uri": "https://localhost:8080/"
        },
        "id": "sD_sFXaCwaQv",
        "outputId": "d5e71ac2-1304-471e-98f3-babc517174e4"
      },
      "execution_count": 78,
      "outputs": [
        {
          "output_type": "stream",
          "name": "stdout",
          "text": [
            "[[ -3.   0. -11.]\n",
            " [  1.   0.   3.]\n",
            " [  4.  -1.  10.]]\n"
          ]
        }
      ]
    },
    {
      "cell_type": "markdown",
      "source": [
        "Check..."
      ],
      "metadata": {
        "id": "unDi8yMexSnW"
      }
    },
    {
      "cell_type": "code",
      "source": [
        "np.dot(A, Y)-np.dot(B, Y)-A"
      ],
      "metadata": {
        "colab": {
          "base_uri": "https://localhost:8080/"
        },
        "id": "2nGjKG2zxUUc",
        "outputId": "9648c27f-5195-4003-867c-f026cae60daf"
      },
      "execution_count": 79,
      "outputs": [
        {
          "output_type": "execute_result",
          "data": {
            "text/plain": [
              "array([[ 4.44089210e-16,  0.00000000e+00,  1.77635684e-15],\n",
              "       [ 0.00000000e+00,  0.00000000e+00, -3.55271368e-15],\n",
              "       [ 0.00000000e+00,  0.00000000e+00, -1.77635684e-15]])"
            ]
          },
          "metadata": {},
          "execution_count": 79
        }
      ]
    }
  ]
}