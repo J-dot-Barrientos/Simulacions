{
  "nbformat": 4,
  "nbformat_minor": 0,
  "metadata": {
    "colab": {
      "provenance": [],
      "include_colab_link": true
    },
    "kernelspec": {
      "name": "python3",
      "display_name": "Python 3"
    },
    "language_info": {
      "name": "python"
    }
  },
  "cells": [
    {
      "cell_type": "markdown",
      "metadata": {
        "id": "view-in-github",
        "colab_type": "text"
      },
      "source": [
        "<a href=\"https://colab.research.google.com/github/J-dot-Barrientos/Simulacions/blob/main/Simulacions/Entregues/Homework%204/Homework_4.ipynb\" target=\"_parent\"><img src=\"https://colab.research.google.com/assets/colab-badge.svg\" alt=\"Open In Colab\"/></a>"
      ]
    },
    {
      "cell_type": "markdown",
      "source": [
        "# **Calculation of $\\frac{3}{4}\\,\\pi$ using Markov chain Monte Carlo**"
      ],
      "metadata": {
        "id": "i-bKCmKGsqrn"
      }
    },
    {
      "cell_type": "markdown",
      "source": [
        "The algorithm is a modification of the Markov Chain example to aproximate the volume of a unite sphere instead of the area of a unite circle."
      ],
      "metadata": {
        "id": "5rc0T9UXtu-a"
      }
    },
    {
      "cell_type": "code",
      "source": [
        "# Here we import the mathematical library and the plots library\n",
        "import numpy as np\n",
        "import matplotlib.pyplot as plt\n",
        "\n",
        "# input total number of random points\n",
        "total_random_points = int(input(\"\\nEnter number of points for Monte Carlo estimate of a unite sphere volume\\n>\"))\n",
        "\n",
        "# input total number of random points\n",
        "delta = float(input(\"\\nEnter size of jump (example 0.3): \\n>\"))\n",
        "\n",
        "# Init counter of number of points inside unit sphere and inside unit cube\n",
        "inside_sphere = 0\n",
        "inside_cube = 0\n",
        "outside = 0\n",
        "\n",
        "# Create list to save x,y of points inside sphere to be shown in the graph\n",
        "xs = []\n",
        "ys = []\n",
        "zs = []\n",
        "\n",
        "# Create list to save x,y of points inside cube but outside sphere to be shown in the graph\n",
        "xc = []\n",
        "yc = []\n",
        "zc = []\n",
        "\n",
        "#---------------------------------------------------\n",
        "# Calculation\n",
        "\n",
        "# Initial position\n",
        "x=1.0\n",
        "y=1.0\n",
        "z=1.0\n",
        "\n",
        "while (inside_cube<total_random_points):\n",
        "\n",
        "    # Generate a random jump\n",
        "    del_x = np.random.uniform(-delta, delta)\n",
        "    del_y = np.random.uniform(-delta, delta)\n",
        "    del_z = np.random.uniform(-delta, delta)\n",
        "\n",
        "    # Check new positions and if they are outside the sphere make zero jump\n",
        "    if abs(x+del_x) > 1.0 or abs(y+del_y) > 1.0 or abs(z+del_z) > 1.0:\n",
        "        outside = outside +1\n",
        "        del_x = 0.0\n",
        "        del_y = 0.0\n",
        "        del_z = 0.0\n",
        "\n",
        "    # Update number of points inside cube and update the new starting position\n",
        "    inside_cube = inside_cube +1\n",
        "    x = x + del_x\n",
        "    y = y + del_y\n",
        "    z = z + del_z\n",
        "\n",
        "    # Check whether it is inside sphere (count and save for representation)\n",
        "    if x**2 + y**2 + z**2 <= 1.0:\n",
        "        inside_sphere = inside_sphere +1\n",
        "        xs.append(x)\n",
        "        ys.append(y)\n",
        "        zs.append(z)\n",
        "    else:\n",
        "        xc.append(x)\n",
        "        yc.append(y)\n",
        "        zc.append(z)\n",
        "\n",
        "#---------------------------------------------------\n",
        "\n",
        "# Statistics\n",
        "\n",
        "# Number of points inside sphere as compared with total\n",
        "sphere_ratio = inside_sphere /  inside_cube\n",
        "\n",
        "# Number of points inside sphere as compared with those inside the total cube with volume 8.0\n",
        "fourthirdspi_approx = 8.0*sphere_ratio\n",
        "\n",
        "# Relative Error\n",
        "re = (abs(100*((4/3)*np.pi-fourthirdspi_approx)/((4/3)*np.pi)))\n",
        "\n",
        "# Print output\n",
        "print('\\n--------------')\n",
        "print('\\nPerformance of calculation')\n",
        "print('Number of failed jumps (removed):',outside,' (',100*outside/inside_cube,'%)')\n",
        "print('\\nResult')\n",
        "print('\\nNumber of points inside cube of volume 8:', inside_cube)\n",
        "print('Number of points inside unit sphere:',inside_sphere,)\n",
        "print('Ratio unit sphere/full cube=',sphere_ratio*100,'%')\n",
        "print('\\nEstimated Volume of unit sphere =',sphere_ratio,'x Total Volume =', fourthirdspi_approx)\n",
        "print(' Exact value (sphere volume):', (4/3)*np.pi)\n",
        "print(' Relative error (%):', np.round(re, 4))"
      ],
      "metadata": {
        "colab": {
          "base_uri": "https://localhost:8080/"
        },
        "id": "f38PfPxXswdq",
        "outputId": "5d687a29-2c20-4fbc-b2d9-3d3b5a7e5c2f"
      },
      "execution_count": 6,
      "outputs": [
        {
          "output_type": "stream",
          "name": "stdout",
          "text": [
            "\n",
            "Enter number of points for Monte Carlo estimate of a unite sphere volume\n",
            ">100000\n",
            "\n",
            "Enter size of jump (example 0.3): \n",
            ">0.4\n",
            "\n",
            "--------------\n",
            "\n",
            "Performance of calculation\n",
            "Number of failed jumps (removed): 26733  ( 26.733 %)\n",
            "\n",
            "Result\n",
            "\n",
            "Number of points inside cube of volume 8: 100000\n",
            "Number of points inside unit sphere: 52745\n",
            "Ratio unit sphere/full cube= 52.745 %\n",
            "\n",
            "Estimated Volume of unit sphere = 0.52745 x Total Volume = 4.2196\n",
            " Exact value (sphere volume): 4.1887902047863905\n",
            " Relative error (%): 0.7355\n"
          ]
        }
      ]
    }
  ]
}